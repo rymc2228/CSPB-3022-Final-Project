{
 "cells": [
  {
   "cell_type": "markdown",
   "metadata": {},
   "source": [
    "# CSCI 3022 Final Project Part II\n"
   ]
  },
  {
   "cell_type": "code",
   "execution_count": 1,
   "metadata": {},
   "outputs": [],
   "source": [
    "NAME = \"Ryan McCarroll\"\n",
    "COLLABORATORS = \"None\""
   ]
  },
  {
   "cell_type": "code",
   "execution_count": 2,
   "metadata": {},
   "outputs": [],
   "source": [
    "import pandas as pd\n",
    "import numpy as np\n",
    "import matplotlib.pyplot as plt\n",
    "import scipy\n",
    "from scipy import stats\n",
    "%matplotlib inline\n",
    "import sklearn\n",
    "import patsy\n",
    "from sklearn.discriminant_analysis import LinearDiscriminantAnalysis\n",
    "from sklearn.discriminant_analysis import QuadraticDiscriminantAnalysis"
   ]
  },
  {
   "cell_type": "markdown",
   "metadata": {},
   "source": [
    "## Overview"
   ]
  },
  {
   "cell_type": "markdown",
   "metadata": {},
   "source": [
    "In my current position I help credit unions buy and sell pools of loans from one another. If the reader is unfamiliar, a credit unions is financial institutions that function in a similar fashion as banks. There some important distinctions but they are beyond the scope of this description.  Credit union financial activities are regulated by the National Credit Union Administration which requires that credit union publish its financial results quarterly. These financial results include each line item of the balance sheet and income statement for all credit unions. For this project, I will take the aggregated financial statements and try to answer some interesting questions about the data."
   ]
  },
  {
   "cell_type": "markdown",
   "metadata": {},
   "source": [
    "## Description of Problem"
   ]
  },
  {
   "cell_type": "markdown",
   "metadata": {},
   "source": [
    "As noted above, my current role at my company is to help facilitate the purchase and sale of pools of loans. When one credit union buys/sells a pool of loans from another credit union, the transaction is called a loan participation. In each participation, there is a buyer and a seller. In general, there are several distinct motivations for each the buyer and seller as to why they would want to take part in the transaction. \n",
    "\n",
    "In the current marketplace, there exists a significant supply and demand imbalance for these transactions. There are far more willing buyers than willing sellers. Most credit unions have too much cash on their balance sheet that they would rather be invested in more productive and higher yielding assets. However, there is very little demand for credit in the U.S. primarily due to elevated savings rates resulting from federal stimulus money. \n",
    "\n",
    "As a result, I am interested in identifying the institutions that have sold loan participations in the past year. In particular, what are the common factors that selling institutions share.  "
   ]
  },
  {
   "cell_type": "markdown",
   "metadata": {},
   "source": [
    "### Goal and Type of Analysis to be Done"
   ]
  },
  {
   "cell_type": "markdown",
   "metadata": {},
   "source": [
    "My goal will be to create a predictive model that will indicate whether a credit union will be a likely seller based on their financial statements. I initially thought that this would be a problem well suited for a KNN algorithm. However after working throug the data, I realized that it is best suited for a logistic regression model. The goal of the analysis will be to create a model which predicts the likelihood of a particular institution being an LP seller. If they are predicted to be a seller, but are not then they are good candidates for our sales staff. I will use two traditional measures of liquidity as variables to predict the likelihood of a credit union having sold a participation. "
   ]
  },
  {
   "cell_type": "markdown",
   "metadata": {},
   "source": [
    "## Description of Data"
   ]
  },
  {
   "cell_type": "markdown",
   "metadata": {},
   "source": [
    "Each quarter every credit union regulated by the NCUA is required to submit their financial statements in standardized format. Each line item on the balance sheet and income statement has an associated classification code. For example, the total assets of an institution is saved as A010. The NCUA takes each of the credit union's data collected this way and publishes the results of all credit unions nation wide. The data can be found at the NCUA website. https://www.ncua.gov/analysis/credit-union-corporate-call-report-data/quarterly-data The data is published in a zip file which contain the various 'tables' that contain related information. Additionally, there is a table that shows the account code, its associated description, which table it can be found and some other pertinent items. Below is the head of the account descriptions to give a flavor of the data set. "
   ]
  },
  {
   "cell_type": "code",
   "execution_count": 3,
   "metadata": {},
   "outputs": [
    {
     "data": {
      "text/html": [
       "<div>\n",
       "<style scoped>\n",
       "    .dataframe tbody tr th:only-of-type {\n",
       "        vertical-align: middle;\n",
       "    }\n",
       "\n",
       "    .dataframe tbody tr th {\n",
       "        vertical-align: top;\n",
       "    }\n",
       "\n",
       "    .dataframe thead th {\n",
       "        text-align: right;\n",
       "    }\n",
       "</style>\n",
       "<table border=\"1\" class=\"dataframe\">\n",
       "  <thead>\n",
       "    <tr style=\"text-align: right;\">\n",
       "      <th></th>\n",
       "      <th>Account</th>\n",
       "      <th>AcctName</th>\n",
       "      <th>AcctDesc</th>\n",
       "      <th>TableName</th>\n",
       "      <th>Annualize</th>\n",
       "      <th>CBSAccount</th>\n",
       "      <th>FPRAccount</th>\n",
       "      <th>STATAcctMain</th>\n",
       "      <th>STATAcctState</th>\n",
       "      <th>STATAcctGraph</th>\n",
       "      <th>STATAcctTable8</th>\n",
       "    </tr>\n",
       "  </thead>\n",
       "  <tbody>\n",
       "    <tr>\n",
       "      <th>0</th>\n",
       "      <td>Acct_001</td>\n",
       "      <td>Amount - Total Other Loans (Purchased or to no...</td>\n",
       "      <td>Include the dollar amount of outstanding loans...</td>\n",
       "      <td>FS220A</td>\n",
       "      <td>False</td>\n",
       "      <td>True</td>\n",
       "      <td>True</td>\n",
       "      <td>True</td>\n",
       "      <td>True</td>\n",
       "      <td>False</td>\n",
       "      <td>False</td>\n",
       "    </tr>\n",
       "    <tr>\n",
       "      <th>1</th>\n",
       "      <td>Acct_002</td>\n",
       "      <td>Amount of Leases Receivable</td>\n",
       "      <td>Leases Receivable. Include the rate, number, a...</td>\n",
       "      <td>FS220A</td>\n",
       "      <td>False</td>\n",
       "      <td>False</td>\n",
       "      <td>False</td>\n",
       "      <td>False</td>\n",
       "      <td>False</td>\n",
       "      <td>False</td>\n",
       "      <td>False</td>\n",
       "    </tr>\n",
       "    <tr>\n",
       "      <th>2</th>\n",
       "      <td>Acct_003</td>\n",
       "      <td>Loans Held for Sale</td>\n",
       "      <td>Loans Held for Sale. Report the amount of outs...</td>\n",
       "      <td>FS220C</td>\n",
       "      <td>False</td>\n",
       "      <td>False</td>\n",
       "      <td>False</td>\n",
       "      <td>False</td>\n",
       "      <td>False</td>\n",
       "      <td>False</td>\n",
       "      <td>False</td>\n",
       "    </tr>\n",
       "    <tr>\n",
       "      <th>3</th>\n",
       "      <td>Acct_007</td>\n",
       "      <td>Land and Building</td>\n",
       "      <td>Land and building, less depreciation on buildi...</td>\n",
       "      <td>FS220</td>\n",
       "      <td>False</td>\n",
       "      <td>True</td>\n",
       "      <td>True</td>\n",
       "      <td>True</td>\n",
       "      <td>True</td>\n",
       "      <td>False</td>\n",
       "      <td>True</td>\n",
       "    </tr>\n",
       "    <tr>\n",
       "      <th>4</th>\n",
       "      <td>Acct_008</td>\n",
       "      <td>Other Fixed Assets</td>\n",
       "      <td>All other fixed assets such as furniture and f...</td>\n",
       "      <td>FS220</td>\n",
       "      <td>False</td>\n",
       "      <td>True</td>\n",
       "      <td>True</td>\n",
       "      <td>True</td>\n",
       "      <td>True</td>\n",
       "      <td>False</td>\n",
       "      <td>True</td>\n",
       "    </tr>\n",
       "  </tbody>\n",
       "</table>\n",
       "</div>"
      ],
      "text/plain": [
       "    Account                                           AcctName  \\\n",
       "0  Acct_001  Amount - Total Other Loans (Purchased or to no...   \n",
       "1  Acct_002                        Amount of Leases Receivable   \n",
       "2  Acct_003                                Loans Held for Sale   \n",
       "3  Acct_007                                  Land and Building   \n",
       "4  Acct_008                                 Other Fixed Assets   \n",
       "\n",
       "                                            AcctDesc TableName Annualize  \\\n",
       "0  Include the dollar amount of outstanding loans...    FS220A     False   \n",
       "1  Leases Receivable. Include the rate, number, a...    FS220A     False   \n",
       "2  Loans Held for Sale. Report the amount of outs...    FS220C     False   \n",
       "3  Land and building, less depreciation on buildi...     FS220     False   \n",
       "4  All other fixed assets such as furniture and f...     FS220     False   \n",
       "\n",
       "  CBSAccount FPRAccount STATAcctMain STATAcctState STATAcctGraph  \\\n",
       "0       True       True         True          True         False   \n",
       "1      False      False        False         False         False   \n",
       "2      False      False        False         False         False   \n",
       "3       True       True         True          True         False   \n",
       "4       True       True         True          True         False   \n",
       "\n",
       "  STATAcctTable8  \n",
       "0          False  \n",
       "1          False  \n",
       "2          False  \n",
       "3           True  \n",
       "4           True  "
      ]
     },
     "execution_count": 3,
     "metadata": {},
     "output_type": "execute_result"
    }
   ],
   "source": [
    "AcctDesc = pd.read_csv('AcctDesc.txt', dtype='unicode')\n",
    "AcctDesc.head()\n"
   ]
  },
  {
   "cell_type": "markdown",
   "metadata": {},
   "source": [
    "The size of the data set is quite large - there are over 2,700 distinct data points. However, most of these data points are not relevant for the problem discussed above"
   ]
  },
  {
   "cell_type": "code",
   "execution_count": 4,
   "metadata": {},
   "outputs": [
    {
     "data": {
      "text/plain": [
       "2698"
      ]
     },
     "execution_count": 4,
     "metadata": {},
     "output_type": "execute_result"
    }
   ],
   "source": [
    "len(AcctDesc)"
   ]
  },
  {
   "cell_type": "code",
   "execution_count": 5,
   "metadata": {},
   "outputs": [],
   "source": [
    "fs220 = pd.read_csv('FS220.txt', dtype='unicode')"
   ]
  },
  {
   "cell_type": "markdown",
   "metadata": {},
   "source": [
    "Additionally, there are 5207 distinct credit unions. "
   ]
  },
  {
   "cell_type": "code",
   "execution_count": 6,
   "metadata": {},
   "outputs": [
    {
     "data": {
      "text/plain": [
       "5207"
      ]
     },
     "execution_count": 6,
     "metadata": {},
     "output_type": "execute_result"
    }
   ],
   "source": [
    "len(fs220['CU_NUMBER'])"
   ]
  },
  {
   "cell_type": "markdown",
   "metadata": {},
   "source": [
    "## Exploritory Data Analysis"
   ]
  },
  {
   "cell_type": "markdown",
   "metadata": {},
   "source": [
    "The first thing that I need to do is to reduce the size of the feature list. I am only concerned with the factors that are related to loan participations. Most items in the balance sheet and income statement are not relevant to that problem. The data points that I will need are: \n",
    "\n",
    "- Total Assets (010)\n",
    "- Participation Loans Sold Year-To-Date (691N)\n",
    "- The participation portfolio breakdown - i.e. Consumer, Student Loans, Real Estate, etc (691N1, 691N7, 691N2, 691N2, 691N8, 691N9, 691N6)\n",
    "- Total Loans (025B)\n",
    "- Total Shares (018)\n",
    "- Total Cash (730A, 730B)\n",
    "\n",
    "These items are the factors that I expect to drive the need to sell - namely liquidity risk and concentration risk. \n",
    "\n",
    "First I need to find the tables that these are located in. "
   ]
  },
  {
   "cell_type": "code",
   "execution_count": 7,
   "metadata": {},
   "outputs": [
    {
     "data": {
      "text/html": [
       "<div>\n",
       "<style scoped>\n",
       "    .dataframe tbody tr th:only-of-type {\n",
       "        vertical-align: middle;\n",
       "    }\n",
       "\n",
       "    .dataframe tbody tr th {\n",
       "        vertical-align: top;\n",
       "    }\n",
       "\n",
       "    .dataframe thead th {\n",
       "        text-align: right;\n",
       "    }\n",
       "</style>\n",
       "<table border=\"1\" class=\"dataframe\">\n",
       "  <thead>\n",
       "    <tr style=\"text-align: right;\">\n",
       "      <th></th>\n",
       "      <th>Account</th>\n",
       "      <th>AcctName</th>\n",
       "      <th>AcctDesc</th>\n",
       "      <th>TableName</th>\n",
       "      <th>Annualize</th>\n",
       "      <th>CBSAccount</th>\n",
       "      <th>FPRAccount</th>\n",
       "      <th>STATAcctMain</th>\n",
       "      <th>STATAcctState</th>\n",
       "      <th>STATAcctGraph</th>\n",
       "      <th>STATAcctTable8</th>\n",
       "    </tr>\n",
       "  </thead>\n",
       "  <tbody>\n",
       "    <tr>\n",
       "      <th>13</th>\n",
       "      <td>Acct_010</td>\n",
       "      <td>TOTAL ASSETS</td>\n",
       "      <td>TOTAL ASSETS</td>\n",
       "      <td>FS220</td>\n",
       "      <td>False</td>\n",
       "      <td>True</td>\n",
       "      <td>True</td>\n",
       "      <td>True</td>\n",
       "      <td>True</td>\n",
       "      <td>True</td>\n",
       "      <td>True</td>\n",
       "    </tr>\n",
       "    <tr>\n",
       "      <th>27</th>\n",
       "      <td>Acct_018</td>\n",
       "      <td>Total Amount of Shares and Deposits</td>\n",
       "      <td>Should include the sum of all deposits both me...</td>\n",
       "      <td>FS220</td>\n",
       "      <td>False</td>\n",
       "      <td>True</td>\n",
       "      <td>True</td>\n",
       "      <td>True</td>\n",
       "      <td>True</td>\n",
       "      <td>True</td>\n",
       "      <td>True</td>\n",
       "    </tr>\n",
       "    <tr>\n",
       "      <th>192</th>\n",
       "      <td>Acct_025B</td>\n",
       "      <td>Total amount of Loans and Leases</td>\n",
       "      <td>Total amount of Loans and Leases</td>\n",
       "      <td>FS220</td>\n",
       "      <td>True</td>\n",
       "      <td>True</td>\n",
       "      <td>True</td>\n",
       "      <td>True</td>\n",
       "      <td>True</td>\n",
       "      <td>True</td>\n",
       "      <td>True</td>\n",
       "    </tr>\n",
       "    <tr>\n",
       "      <th>1573</th>\n",
       "      <td>Acct_691N</td>\n",
       "      <td>Total Outstanding Amount of Participation Loan...</td>\n",
       "      <td>Total Outstanding Amount of Participation Loan...</td>\n",
       "      <td>FS220G</td>\n",
       "      <td>False</td>\n",
       "      <td>False</td>\n",
       "      <td>False</td>\n",
       "      <td>False</td>\n",
       "      <td>False</td>\n",
       "      <td>False</td>\n",
       "      <td>False</td>\n",
       "    </tr>\n",
       "    <tr>\n",
       "      <th>1574</th>\n",
       "      <td>Acct_691N1</td>\n",
       "      <td>Outstanding Amount of Consumer Participation L...</td>\n",
       "      <td>Outstanding Amount of Consumer Participation L...</td>\n",
       "      <td>FS220G</td>\n",
       "      <td>False</td>\n",
       "      <td>False</td>\n",
       "      <td>False</td>\n",
       "      <td>False</td>\n",
       "      <td>False</td>\n",
       "      <td>False</td>\n",
       "      <td>False</td>\n",
       "    </tr>\n",
       "    <tr>\n",
       "      <th>1575</th>\n",
       "      <td>Acct_691N2</td>\n",
       "      <td>Outstanding Amount of Real Estate Participatio...</td>\n",
       "      <td>Outstanding Amount of Real Estate Participatio...</td>\n",
       "      <td>FS220G</td>\n",
       "      <td>False</td>\n",
       "      <td>False</td>\n",
       "      <td>False</td>\n",
       "      <td>False</td>\n",
       "      <td>False</td>\n",
       "      <td>False</td>\n",
       "      <td>False</td>\n",
       "    </tr>\n",
       "    <tr>\n",
       "      <th>1579</th>\n",
       "      <td>Acct_691N6</td>\n",
       "      <td>Outstanding Amount of Loan Pools Participation...</td>\n",
       "      <td>Outstanding Amount of Loan Pools Participation...</td>\n",
       "      <td>FS220G</td>\n",
       "      <td>False</td>\n",
       "      <td>False</td>\n",
       "      <td>False</td>\n",
       "      <td>False</td>\n",
       "      <td>False</td>\n",
       "      <td>False</td>\n",
       "      <td>False</td>\n",
       "    </tr>\n",
       "    <tr>\n",
       "      <th>1580</th>\n",
       "      <td>Acct_691N7</td>\n",
       "      <td>Outstanding Amount of Non-Federally Guaranteed...</td>\n",
       "      <td>Outstanding Amount of Non-Federally Guaranteed...</td>\n",
       "      <td>FS220H</td>\n",
       "      <td>False</td>\n",
       "      <td>False</td>\n",
       "      <td>False</td>\n",
       "      <td>False</td>\n",
       "      <td>False</td>\n",
       "      <td>False</td>\n",
       "      <td>False</td>\n",
       "    </tr>\n",
       "    <tr>\n",
       "      <th>1581</th>\n",
       "      <td>Acct_691N8</td>\n",
       "      <td>Outstanding Amount of Commercial Loans Excludi...</td>\n",
       "      <td>Outstanding Amount of Commercial Loans Excludi...</td>\n",
       "      <td>FS220L</td>\n",
       "      <td>False</td>\n",
       "      <td>False</td>\n",
       "      <td>False</td>\n",
       "      <td>False</td>\n",
       "      <td>False</td>\n",
       "      <td>False</td>\n",
       "      <td>False</td>\n",
       "    </tr>\n",
       "    <tr>\n",
       "      <th>1582</th>\n",
       "      <td>Acct_691N9</td>\n",
       "      <td>Outstanding Amount of Commercial Construction ...</td>\n",
       "      <td>Outstanding Amount of Commercial Construction ...</td>\n",
       "      <td>FS220L</td>\n",
       "      <td>False</td>\n",
       "      <td>False</td>\n",
       "      <td>False</td>\n",
       "      <td>False</td>\n",
       "      <td>False</td>\n",
       "      <td>False</td>\n",
       "      <td>False</td>\n",
       "    </tr>\n",
       "    <tr>\n",
       "      <th>1661</th>\n",
       "      <td>Acct_730A</td>\n",
       "      <td>Cash on Hand (Coin and Currency)</td>\n",
       "      <td>Includes the change fund (change fund includes...</td>\n",
       "      <td>FS220A</td>\n",
       "      <td>False</td>\n",
       "      <td>False</td>\n",
       "      <td>False</td>\n",
       "      <td>False</td>\n",
       "      <td>False</td>\n",
       "      <td>False</td>\n",
       "      <td>False</td>\n",
       "    </tr>\n",
       "    <tr>\n",
       "      <th>1662</th>\n",
       "      <td>Acct_730B</td>\n",
       "      <td>Total Cash on Deposit (Amounts Deposited in Fi...</td>\n",
       "      <td>Total Cash on Deposit (Amounts Deposited in Fi...</td>\n",
       "      <td>FS220A</td>\n",
       "      <td>False</td>\n",
       "      <td>False</td>\n",
       "      <td>False</td>\n",
       "      <td>False</td>\n",
       "      <td>False</td>\n",
       "      <td>False</td>\n",
       "      <td>False</td>\n",
       "    </tr>\n",
       "  </tbody>\n",
       "</table>\n",
       "</div>"
      ],
      "text/plain": [
       "         Account                                           AcctName  \\\n",
       "13      Acct_010                                       TOTAL ASSETS   \n",
       "27      Acct_018                Total Amount of Shares and Deposits   \n",
       "192    Acct_025B                   Total amount of Loans and Leases   \n",
       "1573   Acct_691N  Total Outstanding Amount of Participation Loan...   \n",
       "1574  Acct_691N1  Outstanding Amount of Consumer Participation L...   \n",
       "1575  Acct_691N2  Outstanding Amount of Real Estate Participatio...   \n",
       "1579  Acct_691N6  Outstanding Amount of Loan Pools Participation...   \n",
       "1580  Acct_691N7  Outstanding Amount of Non-Federally Guaranteed...   \n",
       "1581  Acct_691N8  Outstanding Amount of Commercial Loans Excludi...   \n",
       "1582  Acct_691N9  Outstanding Amount of Commercial Construction ...   \n",
       "1661   Acct_730A                   Cash on Hand (Coin and Currency)   \n",
       "1662   Acct_730B  Total Cash on Deposit (Amounts Deposited in Fi...   \n",
       "\n",
       "                                               AcctDesc TableName Annualize  \\\n",
       "13                                         TOTAL ASSETS     FS220     False   \n",
       "27    Should include the sum of all deposits both me...     FS220     False   \n",
       "192                    Total amount of Loans and Leases     FS220      True   \n",
       "1573  Total Outstanding Amount of Participation Loan...    FS220G     False   \n",
       "1574  Outstanding Amount of Consumer Participation L...    FS220G     False   \n",
       "1575  Outstanding Amount of Real Estate Participatio...    FS220G     False   \n",
       "1579  Outstanding Amount of Loan Pools Participation...    FS220G     False   \n",
       "1580  Outstanding Amount of Non-Federally Guaranteed...    FS220H     False   \n",
       "1581  Outstanding Amount of Commercial Loans Excludi...    FS220L     False   \n",
       "1582  Outstanding Amount of Commercial Construction ...    FS220L     False   \n",
       "1661  Includes the change fund (change fund includes...    FS220A     False   \n",
       "1662  Total Cash on Deposit (Amounts Deposited in Fi...    FS220A     False   \n",
       "\n",
       "     CBSAccount FPRAccount STATAcctMain STATAcctState STATAcctGraph  \\\n",
       "13         True       True         True          True          True   \n",
       "27         True       True         True          True          True   \n",
       "192        True       True         True          True          True   \n",
       "1573      False      False        False         False         False   \n",
       "1574      False      False        False         False         False   \n",
       "1575      False      False        False         False         False   \n",
       "1579      False      False        False         False         False   \n",
       "1580      False      False        False         False         False   \n",
       "1581      False      False        False         False         False   \n",
       "1582      False      False        False         False         False   \n",
       "1661      False      False        False         False         False   \n",
       "1662      False      False        False         False         False   \n",
       "\n",
       "     STATAcctTable8  \n",
       "13             True  \n",
       "27             True  \n",
       "192            True  \n",
       "1573          False  \n",
       "1574          False  \n",
       "1575          False  \n",
       "1579          False  \n",
       "1580          False  \n",
       "1581          False  \n",
       "1582          False  \n",
       "1661          False  \n",
       "1662          False  "
      ]
     },
     "execution_count": 7,
     "metadata": {},
     "output_type": "execute_result"
    }
   ],
   "source": [
    "#These are the accounts needed. \n",
    "acct = [\"Acct_010\", \"Acct_691N\", \"Acct_691N1\", \"Acct_691N7\",\"Acct_691N2\",\"Acct_691N8\",\"Acct_691N9\",\"Acct_691N6\",\"Acct_025B\", \"Acct_018\", \"Acct_730A\", \"Acct_730B\"]\n",
    "\n",
    "AcctDesc.loc[AcctDesc['Account'].isin(acct)]"
   ]
  },
  {
   "cell_type": "markdown",
   "metadata": {},
   "source": [
    "Next I need to pull the data out of the needed tables and join them into a my data frame. FS220 is already loaded, need to load the next two. "
   ]
  },
  {
   "cell_type": "code",
   "execution_count": 8,
   "metadata": {},
   "outputs": [],
   "source": [
    "fs220G = pd.read_csv('FS220G.txt', dtype='unicode')\n",
    "fs220H = pd.read_csv('FS220H.txt', dtype='unicode')\n",
    "fs220L = pd.read_csv('FS220L.txt', dtype='unicode')\n",
    "fs220A = pd.read_csv('FS220A.txt', dtype='unicode')"
   ]
  },
  {
   "cell_type": "code",
   "execution_count": 9,
   "metadata": {},
   "outputs": [],
   "source": [
    "#Select needed columns from relavant tables\n",
    "tmpfs220 = fs220[[\"ACCT_010\", \"ACCT_018\", \"ACCT_025B\"]]\n",
    "tmpfs220G  = fs220G[[\"ACCT_691N\", \"ACCT_691N1\",\"ACCT_691N2\",\"ACCT_691N6\"]]\n",
    "tmpfs220H  = fs220H[[\"Acct_691N7\"]]\n",
    "tmpfs220L = fs220L[[\"ACCT_691N8\", \"ACCT_691N9\"]]\n",
    "tmpfs220A = fs220A[[\"Acct_730A\", \"Acct_730B\"]]\n",
    "#join to single datafram\n",
    "df = pd.concat([tmpfs220.reset_index(drop=True), tmpfs220G, tmpfs220H, tmpfs220L, tmpfs220A ], axis=1)\n",
    "\n"
   ]
  },
  {
   "cell_type": "markdown",
   "metadata": {},
   "source": [
    "Now I need to change the data type to numeric.  "
   ]
  },
  {
   "cell_type": "code",
   "execution_count": 10,
   "metadata": {},
   "outputs": [],
   "source": [
    "df['ACCT_010'] = pd.to_numeric(df['ACCT_010'])\n",
    "df['ACCT_018'] = pd.to_numeric(df['ACCT_018'])\n",
    "df['ACCT_691N'] = pd.to_numeric(df['ACCT_691N'])\n",
    "df['ACCT_691N1'] = pd.to_numeric(df['ACCT_691N1'])\n",
    "df['ACCT_691N2'] = pd.to_numeric(df['ACCT_691N2'])\n",
    "df['ACCT_691N6'] = pd.to_numeric(df['ACCT_691N6'])\n",
    "df['ACCT_025B'] = pd.to_numeric(df['ACCT_025B'])\n",
    "df['ACCT_691N8'] = pd.to_numeric(df['ACCT_691N8'])\n",
    "df['ACCT_691N9'] = pd.to_numeric(df['ACCT_691N9'])\n",
    "df['ACCT_691N9'] = pd.to_numeric(df['ACCT_691N9'])\n",
    "df['Acct_730B'] = pd.to_numeric(df['Acct_730B'])"
   ]
  },
  {
   "cell_type": "markdown",
   "metadata": {},
   "source": [
    "Well that was a slog to get that together, but now I think I have all of the relevant data points in a single data frame. Lets start by looking at the distribution of asset size. "
   ]
  },
  {
   "cell_type": "markdown",
   "metadata": {},
   "source": [
    "First lets start by looking at the relative size of credit unions. As you can see by the histograms. Most credit unions are small and there are a few HUGE ones that skew the distribution. "
   ]
  },
  {
   "cell_type": "code",
   "execution_count": 11,
   "metadata": {},
   "outputs": [
    {
     "data": {
      "image/png": "[encoded data removed]",
      "text/plain": [
       "<Figure size 432x288 with 1 Axes>"
      ]
     },
     "metadata": {
      "needs_background": "light"
     },
     "output_type": "display_data"
    }
   ],
   "source": [
    "plt.hist(df[\"ACCT_010\"], bins=50, label=\"Data\")\n",
    "plt.xlabel(\"Asset Size\")\n",
    "plt.show()\n"
   ]
  },
  {
   "cell_type": "markdown",
   "metadata": {},
   "source": [
    "So I need to scale the relevant data points by asset size. The easiest way to do that is to is to 'common size' the data points. That is to divide them by assets. Additionally, I will use another common liquidity measurement of loans to shares. "
   ]
  },
  {
   "cell_type": "code",
   "execution_count": 12,
   "metadata": {},
   "outputs": [],
   "source": [
    "df[\"Cash_to_Assets\"] = df['Acct_730B'] / df['ACCT_010']\n",
    "df['Loans_to_Shares'] = df['ACCT_025B'] / df['ACCT_018']"
   ]
  },
  {
   "cell_type": "markdown",
   "metadata": {},
   "source": [
    "Lets look at a distribution of the transformed data points. "
   ]
  },
  {
   "cell_type": "code",
   "execution_count": 13,
   "metadata": {},
   "outputs": [
    {
     "data": {
      "image/png": "[encoded data removed]",
      "text/plain": [
       "<Figure size 432x288 with 1 Axes>"
      ]
     },
     "metadata": {
      "needs_background": "light"
     },
     "output_type": "display_data"
    }
   ],
   "source": [
    "plt.hist(df[\"Cash_to_Assets\"], bins=50, label=\"Data\")\n",
    "plt.title(\"Credit Unions who have NOT sold LPs\")\n",
    "plt.xlabel(\"Cash to Asset ratio\")\n",
    "plt.show()"
   ]
  },
  {
   "cell_type": "code",
   "execution_count": 14,
   "metadata": {},
   "outputs": [
    {
     "data": {
      "image/png": "[encoded data removed]",
      "text/plain": [
       "<Figure size 432x288 with 1 Axes>"
      ]
     },
     "metadata": {
      "needs_background": "light"
     },
     "output_type": "display_data"
    }
   ],
   "source": [
    "plt.hist(df[\"Loans_to_Shares\"], bins=50, label=\"Data\")\n",
    "plt.title(\"Credit Unions who have NOT sold LPs\")\n",
    "plt.xlabel(\"Loan to share ratio\")\n",
    "plt.show()"
   ]
  },
  {
   "cell_type": "markdown",
   "metadata": {},
   "source": [
    "In general these are opposite ways to measure liquidity, which is why the distributions tend to be mirror images. The next question is how this relates to the propensity to sell a loan participation. "
   ]
  },
  {
   "cell_type": "code",
   "execution_count": 15,
   "metadata": {},
   "outputs": [],
   "source": [
    "#create a distribution with only CUs that have sold loan participations.Will use this to compare distributions. \n",
    "dfLP = df.loc[df['ACCT_691N']>0]"
   ]
  },
  {
   "cell_type": "code",
   "execution_count": 16,
   "metadata": {},
   "outputs": [
    {
     "data": {
      "image/png": "[encoded data removed]",
      "text/plain": [
       "<Figure size 432x288 with 1 Axes>"
      ]
     },
     "metadata": {
      "needs_background": "light"
     },
     "output_type": "display_data"
    }
   ],
   "source": [
    "plt.hist(dfLP[\"Loans_to_Shares\"], bins=50, label=\"Data\")\n",
    "plt.title(\"Credit Unions who have sold LPs\")\n",
    "plt.xlabel(\"Loans to Shares ratio\")\n",
    "plt.show()"
   ]
  },
  {
   "cell_type": "code",
   "execution_count": 17,
   "metadata": {},
   "outputs": [
    {
     "data": {
      "image/png": "[encoded data removed]",
      "text/plain": [
       "<Figure size 432x288 with 1 Axes>"
      ]
     },
     "metadata": {
      "needs_background": "light"
     },
     "output_type": "display_data"
    }
   ],
   "source": [
    "plt.hist(dfLP[\"Cash_to_Assets\"], bins=50, label=\"Data\")\n",
    "plt.title(\"Credit Unions who have sold LPs\")\n",
    "plt.xlabel(\"Cash to Asset Ratio\")\n",
    "plt.show()"
   ]
  },
  {
   "cell_type": "markdown",
   "metadata": {},
   "source": [
    "It does appear that the credit unions that have sold participation have higher loan to share ratios and lower cash to asset ratios. Finally, I will look at the mean of those two databases. "
   ]
  },
  {
   "cell_type": "code",
   "execution_count": 18,
   "metadata": {},
   "outputs": [
    {
     "name": "stdout",
     "output_type": "stream",
     "text": [
      "Loan to share ratio for CUs that have sold is  0.7475913626103923 Vs. all CUs 0.5916798264402676 Cash to assets for CUs that have sold 0.1251192665145429 Vs. all CUs 0.16940459128566854\n"
     ]
    }
   ],
   "source": [
    "CAall = df.Cash_to_Assets.mean()\n",
    "CAlp = dfLP.Cash_to_Assets.mean()\n",
    "LSall = df.Loans_to_Shares.mean()\n",
    "LSlp = dfLP.Loans_to_Shares.mean()\n",
    "\n",
    "print('Loan to share ratio for CUs that have sold is ', LSlp, 'Vs. all CUs', LSall, \"Cash to assets for CUs that have sold\",\n",
    "     CAlp, 'Vs. all CUs', CAall)"
   ]
  },
  {
   "cell_type": "markdown",
   "metadata": {},
   "source": [
    "Based on my experience, that seems to be a significant difference, but that's what the model will hopefully predict. "
   ]
  },
  {
   "cell_type": "markdown",
   "metadata": {},
   "source": [
    "## Remove outlier data"
   ]
  },
  {
   "cell_type": "markdown",
   "metadata": {},
   "source": [
    "I noticed in the data that there were a few outlier data points. I can say based on my industry experience that a loan to share ratio over 1.50 is nonsensical. That has to be a data input error. Therefore, I am going to remove those. "
   ]
  },
  {
   "cell_type": "code",
   "execution_count": 19,
   "metadata": {},
   "outputs": [],
   "source": [
    "df = df.loc[df['Loans_to_Shares']<1.50]"
   ]
  },
  {
   "cell_type": "markdown",
   "metadata": {},
   "source": [
    "## Relationship between predictor variables. "
   ]
  },
  {
   "cell_type": "markdown",
   "metadata": {},
   "source": [
    "My assumption is that either a combination of loan to share ratio or a cash to assets ratio would predict a credit unions propensity to sell a loan participation. However, these are both measures of liquidity albeit in different ways. Loans to shares measures the proportion of deposits that the institution has lent out. A ratio of 100% means that the all deposits have been lent out and they must rely on capital or borrowings to lend. Cash to assets measures the amount of cash held on the balance sheet. This is a more simple measure, but a credit union could have a low cash to assets ratio but not a high loan to share (lots of investments instead of loans). In general, one would expect a negative relationship between the two variables. In other words institutions with high loan to share ratios should be tight on cash. If these are too correlated, it might be worth finding a third variable. However, that does not appear to be the case for either the subset of CUs that have sold or the subset that has not sold a participation. "
   ]
  },
  {
   "cell_type": "code",
   "execution_count": 20,
   "metadata": {},
   "outputs": [
    {
     "data": {
      "image/png": "[encoded data removed]",
      "text/plain": [
       "<Figure size 432x288 with 1 Axes>"
      ]
     },
     "metadata": {
      "needs_background": "light"
     },
     "output_type": "display_data"
    }
   ],
   "source": [
    "plt.plot(dfLP[\"Loans_to_Shares\"], dfLP[\"Cash_to_Assets\"], 'o', alpha=0.3)\n",
    "plt.title(\"Credit Unions who have sold LPs\")\n",
    "plt.xlabel(\"Loans to Shares\")\n",
    "plt.ylabel(\"Cash to Assets\")\n",
    "plt.show()"
   ]
  },
  {
   "cell_type": "code",
   "execution_count": 21,
   "metadata": {},
   "outputs": [
    {
     "data": {
      "image/png": "[encoded data removed]",
      "text/plain": [
       "<Figure size 432x288 with 1 Axes>"
      ]
     },
     "metadata": {
      "needs_background": "light"
     },
     "output_type": "display_data"
    }
   ],
   "source": [
    "plt.plot(df[\"Loans_to_Shares\"], df[\"Cash_to_Assets\"], 'o',alpha=0.3)\n",
    "plt.title(\"Credit Unions who have NOT sold LPs\")\n",
    "plt.xlabel(\"Loans to Shares\")\n",
    "plt.ylabel(\"Cash to Assets\")\n",
    "plt.show()"
   ]
  },
  {
   "cell_type": "markdown",
   "metadata": {},
   "source": [
    "Up to this point, I have two separate data frames for seller / non-seller. Need to create the column in the original dataframe. This will also allow me to use the 0/1 classification for the dependent variable.  "
   ]
  },
  {
   "cell_type": "code",
   "execution_count": 22,
   "metadata": {},
   "outputs": [
    {
     "name": "stdout",
     "output_type": "stream",
     "text": [
      "Of all  5203  Credit unions 878 have sold participations\n"
     ]
    }
   ],
   "source": [
    "df[\"LPSeller\"] = df.ACCT_691N >0\n",
    "df['LPSeller'] = (df['LPSeller'] == True ).astype(int) #turn to 0/1 vs. False/True\n",
    "df.LPSeller\n",
    "print(\"Of all \", len(df[\"ACCT_691N\"]), \" Credit unions\", df.LPSeller.sum(), \"have sold participations\")\n"
   ]
  },
  {
   "cell_type": "markdown",
   "metadata": {},
   "source": [
    "## Model"
   ]
  },
  {
   "cell_type": "markdown",
   "metadata": {},
   "source": [
    "I have gone back and forth on the best model to use. I have landed on my \"proper single model\" per the rubric to be a logistic regression. That seems to me to be the most appropriate in this context. I want to know what the likelihood of a credit union being a seller based on their loan to share ratio and their cash to assets ratio. My plan will be to split the data into a training data set and a testing data set. Once the model is trained I will test the efficacy of the model on the testing set. "
   ]
  },
  {
   "cell_type": "markdown",
   "metadata": {},
   "source": [
    "I need to start by splitting a training and testing set. "
   ]
  },
  {
   "cell_type": "code",
   "execution_count": 23,
   "metadata": {},
   "outputs": [],
   "source": [
    "df_train = df[::2]\n",
    "df_test = df[1::2] "
   ]
  },
  {
   "cell_type": "markdown",
   "metadata": {},
   "source": [
    "Now to train the model...I'm going to start by just looking at loan to share as the relavant measure and then iteratively add additional factors. "
   ]
  },
  {
   "cell_type": "code",
   "execution_count": 24,
   "metadata": {},
   "outputs": [
    {
     "name": "stdout",
     "output_type": "stream",
     "text": [
      "Score is 0.828977709454266\n"
     ]
    }
   ],
   "source": [
    "y,X = patsy.dmatrices(\"LPSeller ~ 0+ Loans_to_Shares\", data=df_train)\n",
    "\n",
    "lr = sklearn.linear_model.LogisticRegression()\n",
    "mod = lr.fit(X, y.ravel())\n",
    "\n",
    "yhat = mod.predict(X)\n",
    "\n",
    "print('Score is', mod.score(X,y.ravel()))"
   ]
  },
  {
   "cell_type": "markdown",
   "metadata": {},
   "source": [
    "That seems to be a pretty good accuracy score. Not to extend that to the test data. "
   ]
  },
  {
   "cell_type": "code",
   "execution_count": 25,
   "metadata": {},
   "outputs": [
    {
     "name": "stdout",
     "output_type": "stream",
     "text": [
      "Score is 0.8266051518646674\n"
     ]
    }
   ],
   "source": [
    "y_test, X_test = patsy.dmatrices(\"LPSeller ~ 0+ Loans_to_Shares\", data=df_test)\n",
    "\n",
    "print('Score is', mod.score(X_test, y_test.ravel()))"
   ]
  },
  {
   "cell_type": "markdown",
   "metadata": {},
   "source": [
    "The accuracy is a little bit worse but still pretty good. Not lets look at some visuals to assess the model. "
   ]
  },
  {
   "cell_type": "code",
   "execution_count": 26,
   "metadata": {},
   "outputs": [
    {
     "data": {
      "text/plain": [
       "[<matplotlib.lines.Line2D at 0x7f2e9c375be0>]"
      ]
     },
     "execution_count": 26,
     "metadata": {},
     "output_type": "execute_result"
    },
    {
     "data": {
      "image/png": "[encoded data removed]",
      "text/plain": [
       "<Figure size 432x288 with 1 Axes>"
      ]
     },
     "metadata": {
      "needs_background": "light"
     },
     "output_type": "display_data"
    }
   ],
   "source": [
    "yhat_test = mod.predict(X_test)\n",
    "\n",
    "\n",
    "def logistic(model, x):\n",
    "    z = np.exp(model.intercept_ + model.coef_ * x)\n",
    "    return  z / (1 + z)\n",
    "\n",
    "plt.plot(X_test,yhat_test,'go');\n",
    "\n",
    "plt.plot(X, logistic(mod, X), 'ro')\n",
    "#plt.show()\n"
   ]
  },
  {
   "cell_type": "markdown",
   "metadata": {},
   "source": [
    "Finally, I want to try a multifactor model including the Cash to Assets ratio to see if that brings additional accuracy to the model. "
   ]
  },
  {
   "cell_type": "code",
   "execution_count": 27,
   "metadata": {},
   "outputs": [
    {
     "name": "stdout",
     "output_type": "stream",
     "text": [
      "Score is 0.8324365872405841\n"
     ]
    }
   ],
   "source": [
    "y,X = patsy.dmatrices(\"LPSeller ~ 0+ Loans_to_Shares + Cash_to_Assets\", data=df_train)\n",
    "\n",
    "lr = sklearn.linear_model.LogisticRegression()\n",
    "mod = lr.fit(X, y.ravel())\n",
    "\n",
    "yhat = mod.predict(X)\n",
    "\n",
    "#print(sklearn.metrics.confusion_matrix(X, yhat))\n",
    "print('Score is', mod.score(X,y.ravel()))"
   ]
  },
  {
   "cell_type": "markdown",
   "metadata": {},
   "source": [
    "This actually works slightly better, but does not seem to make a huge difference. Let's try it on the testing dataset. "
   ]
  },
  {
   "cell_type": "code",
   "execution_count": 28,
   "metadata": {},
   "outputs": [
    {
     "name": "stdout",
     "output_type": "stream",
     "text": [
      "Score is 0.8262206843521722\n"
     ]
    }
   ],
   "source": [
    "y_test, X_test = patsy.dmatrices(\"LPSeller ~ 0+ Loans_to_Shares+Cash_to_Assets\", data=df_test)\n",
    "\n",
    "print('Score is', mod.score(X_test, y_test.ravel()))"
   ]
  },
  {
   "cell_type": "markdown",
   "metadata": {},
   "source": [
    "This is almost identical to the results of runing the model on the test set using only loan to share. As a result I will stick to the more parsimoneous model in my analysis. "
   ]
  },
  {
   "cell_type": "markdown",
   "metadata": {},
   "source": [
    "## Conclusion and implications"
   ]
  },
  {
   "cell_type": "markdown",
   "metadata": {},
   "source": [
    "This was an interesting analysis and could potentially be helpful in identifying credit unions that are not presently selling loan participations, but may be good candidates to sell in the near future. I can use the predict function on the above model to spit out the credit unions that I would like our sales staff to target in the coming months. \n",
    "\n",
    "As noted earlier, there appeared to be some collinearity between the two variables causing there to not be much change in the multifactor model. I suspect there would be at least a few other variables in the serveral thousand variables that would be helpful in increasing the accuracy. That would be one area to improve the model. "
   ]
  },
  {
   "cell_type": "code",
   "execution_count": null,
   "metadata": {},
   "outputs": [],
   "source": []
  }
 ],
 "metadata": {
  "kernelspec": {
   "display_name": "Python 3",
   "language": "python",
   "name": "python3"
  },
  "language_info": {
   "codemirror_mode": {
    "name": "ipython",
    "version": 3
   },
   "file_extension": ".py",
   "mimetype": "text/x-python",
   "name": "python",
   "nbconvert_exporter": "python",
   "pygments_lexer": "ipython3",
   "version": "3.8.6"
  }
 },
 "nbformat": 4,
 "nbformat_minor": 4
}
